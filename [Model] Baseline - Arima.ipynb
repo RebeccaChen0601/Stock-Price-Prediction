{
 "cells": [
  {
   "cell_type": "markdown",
   "metadata": {},
   "source": [
    "# Model Baseline - Arima\n",
    "\n",
    "Test performance of stock prediction based on conventional forecasting models"
   ]
  },
  {
   "cell_type": "code",
   "execution_count": 5,
   "metadata": {},
   "outputs": [],
   "source": [
    "import datetime\n",
    "import importlib\n",
    "import numpy as N\n",
    "import numpy.random as NR\n",
    "import matplotlib.pyplot as pyplot\n",
    "import seaborn\n",
    "import pandas as P\n",
    "from pathlib import Path\n",
    "import pyspark.mllib as SM\n",
    "import pyspark.mllib.feature as SMF\n",
    "import itertools\n",
    "import warnings\n",
    "import statsmodels.api as Sm\n",
    "import statsmodels\n",
    "import tqdm\n",
    "\n",
    "seaborn.set_style('whitegrid')"
   ]
  },
  {
   "cell_type": "code",
   "execution_count": 2,
   "metadata": {},
   "outputs": [],
   "source": [
    "pathStocks = Path('datasets/Stocks')\n",
    "pathARIMA = Path('models/arima')\n",
    "stocks = P.read_csv(pathStocks / 'stocks.csv')\n",
    "startTrain = datetime.datetime(2017, 1, 1)\n",
    "endTrain = datetime.datetime(2019, 1, 1)\n",
    "startTest = endTrain\n",
    "endTest = datetime.datetime(2019, 7, 1)"
   ]
  },
  {
   "cell_type": "code",
   "execution_count": 11,
   "metadata": {},
   "outputs": [],
   "source": [
    "def train_arima_model(series, verbose=False):\n",
    "    \"\"\"\n",
    "    series: A training set (i.e. 2017-01-01 to 2018-12-31)\n",
    "    \"\"\"\n",
    "    series = series[series.index.map(lambda x:startTrain <= x and x <= endTrain)]\n",
    "    # Define the p, d and q parameters to take any value between 0 and 3\n",
    "    \n",
    "    # Perform Hyperparameter search\n",
    "    p = d = q = range(0, 3)\n",
    "    # Generate all different combinations of p, q and q\n",
    "    pdq = list(itertools.product(p, d, q))\n",
    "    \n",
    "    warnings.filterwarnings(\"ignore\")\n",
    "    aic = []\n",
    "    parameters = []\n",
    "    for param in pdq:\n",
    "        #for param in pdq:\n",
    "#         try:\n",
    "        mod = sm.tsa.statespace.SARIMAX(series, order=param, enforce_stationarity=True, enforce_invertibility=True)\n",
    "        results = mod.fit()\n",
    "        # save results in lists\n",
    "        aic.append(results.aic)\n",
    "        parameters.append(param)\n",
    "        #seasonal_param.append(param_seasonal)\n",
    "        if verbose:\n",
    "            print('ARIMA{} - AIC:{}'.format(param, results.aic))\n",
    "#         except:\n",
    "#             continue\n",
    "    # find lowest aic          \n",
    "    index_min = min(range(len(aic)), key=aic.__getitem__)           \n",
    "\n",
    "    # print('The optimal model is: ARIMA{} -AIC{}'.format(parameters[index_min], aic[index_min]))\n",
    "    \n",
    "    return parameters[index_min]\n",
    "\n",
    "def one_day_arima(series, endDate, params):\n",
    "    mask = series.index.map(lambda x:startTrain <= x and x < endDate)\n",
    "    model = statsmodels.tsa.arima_model.ARIMA(series[mask], order=params)\n",
    "    model = model.fit(disp=0)\n",
    "    yhat,_,_ = model.forecast(steps=1)\n",
    "    return yhat[0]\n",
    "\n",
    "def evaluate_arima_model(series, params):\n",
    "    \"\"\"\n",
    "    series: Train set and test set combined\n",
    "    \n",
    "    What this function should do: For each date d within [2019-01-01, 2019-08-31], train the ARIMA model\n",
    "    with data **ONLY** from [2017-01-01, d) and forecast the next date (i.e. .forecast(1)). Store the result in another df series.\n",
    "    \n",
    "    Ideally, do something like this:\n",
    "    \n",
    "    train_mask = df.index.map(lambda x:x.year == 2017 or x.year == 2018)\n",
    "    params = train_arima_model(df['Y'][train_mask])\n",
    "    df['Yhat'] = evaluate_arima_model(df['Y'], params)\n",
    "    \n",
    "    Then, save the resulting df to `models/arima/AAPL.csv` for further evaluation downstream.\n",
    "    Run this on a single csv first to make sure it works. A df is provided above.\n",
    "    \"\"\"\n",
    "    \n",
    "    # Find set of index which needs prediction\n",
    "    testIndex = series.index[series.index.map(lambda x:startTest <= x and x <= endTest)]\n",
    "    pred = {i: one_day_arima(series, i, params) for i in testIndex}\n",
    "    return P.Series(pred)\n",
    "\n",
    "def predict_stock(df):\n",
    "    params = train_arima_model(df['X'])\n",
    "    predicted = evaluate_arima_model(df['X'], params)\n",
    "    df['Xhat'] = predicted\n",
    "    df['Yhat'] = (df['Xhat'].shift(-1) - df['X']) / df['sigma_hat']\n",
    "    return df"
   ]
  },
  {
   "cell_type": "code",
   "execution_count": 18,
   "metadata": {},
   "outputs": [
    {
     "name": "stderr",
     "output_type": "stream",
     "text": [
      " 81%|████████▏ | 26/32 [00:03<00:01,  3.26it/s]"
     ]
    },
    {
     "name": "stdout",
     "output_type": "stream",
     "text": [
      "Unable to process ticker PEP, LU decomposition error.\n"
     ]
    },
    {
     "name": "stderr",
     "output_type": "stream",
     "text": [
      " 88%|████████▊ | 28/32 [00:05<00:02,  1.58it/s]"
     ]
    },
    {
     "name": "stdout",
     "output_type": "stream",
     "text": [
      "Unable to process ticker LMT, The computed initial AR coefficients are not stationary\n",
      "You should induce stationarity, choose a different model order, or you can\n",
      "pass your own start_params.\n"
     ]
    },
    {
     "name": "stderr",
     "output_type": "stream",
     "text": [
      "100%|██████████| 32/32 [02:28<00:00,  4.65s/it]\n"
     ]
    }
   ],
   "source": [
    "for ticker in tqdm.tqdm(stocks['Ticker'].to_list()):\n",
    "    pIn = pathStocks /  (ticker+'.csv')\n",
    "    pOut = pathARIMA / (ticker+'.csv')\n",
    "    \n",
    "    df = P.read_csv(pIn).set_index('Date')\n",
    "    df.index = df.index.map(lambda x:P.to_datetime(x, format='%Y-%m-%d'))\n",
    "    try:\n",
    "        if not pOut.exists():\n",
    "            df = predict_stock(df)\n",
    "            testMask = df.index.map(lambda x:startTest <= x and x < endTest)\n",
    "            df[testMask].reset_index()[['Date', 'Yhat', 'Xhat']].to_csv(pOut, index=False)\n",
    "    except N.linalg.LinAlgError as e:\n",
    "        print(f\"Unable to process ticker {ticker}, {e}\")\n",
    "    except ValueError as e:\n",
    "        print(f\"Unable to process ticker {ticker}, {e}\")"
   ]
  },
  {
   "cell_type": "markdown",
   "metadata": {},
   "source": [
    "## Example Execution on AAPL"
   ]
  },
  {
   "cell_type": "code",
   "execution_count": 68,
   "metadata": {},
   "outputs": [
    {
     "name": "stderr",
     "output_type": "stream",
     "text": [
      "100%|██████████| 124/124 [00:02<00:00, 45.32it/s]\n"
     ]
    },
    {
     "data": {
      "text/html": [
       "<div>\n",
       "<style scoped>\n",
       "    .dataframe tbody tr th:only-of-type {\n",
       "        vertical-align: middle;\n",
       "    }\n",
       "\n",
       "    .dataframe tbody tr th {\n",
       "        vertical-align: top;\n",
       "    }\n",
       "\n",
       "    .dataframe thead th {\n",
       "        text-align: right;\n",
       "    }\n",
       "</style>\n",
       "<table border=\"1\" class=\"dataframe\">\n",
       "  <thead>\n",
       "    <tr style=\"text-align: right;\">\n",
       "      <th></th>\n",
       "      <th>Open</th>\n",
       "      <th>High</th>\n",
       "      <th>Low</th>\n",
       "      <th>Close</th>\n",
       "      <th>Volume</th>\n",
       "      <th>Dividends</th>\n",
       "      <th>Stock Splits</th>\n",
       "      <th>S</th>\n",
       "      <th>X</th>\n",
       "      <th>sigma_hat</th>\n",
       "      <th>Y</th>\n",
       "      <th>Xhat</th>\n",
       "      <th>Yhat</th>\n",
       "    </tr>\n",
       "    <tr>\n",
       "      <th>Date</th>\n",
       "      <th></th>\n",
       "      <th></th>\n",
       "      <th></th>\n",
       "      <th></th>\n",
       "      <th></th>\n",
       "      <th></th>\n",
       "      <th></th>\n",
       "      <th></th>\n",
       "      <th></th>\n",
       "      <th></th>\n",
       "      <th></th>\n",
       "      <th></th>\n",
       "      <th></th>\n",
       "    </tr>\n",
       "  </thead>\n",
       "  <tbody>\n",
       "    <tr>\n",
       "      <th>2016-12-01</th>\n",
       "      <td>25.920214</td>\n",
       "      <td>26.054078</td>\n",
       "      <td>25.605517</td>\n",
       "      <td>25.713547</td>\n",
       "      <td>148347600</td>\n",
       "      <td>0.0</td>\n",
       "      <td>0</td>\n",
       "      <td>25.816881</td>\n",
       "      <td>25.849792</td>\n",
       "      <td>NaN</td>\n",
       "      <td>NaN</td>\n",
       "      <td>NaN</td>\n",
       "      <td>NaN</td>\n",
       "    </tr>\n",
       "    <tr>\n",
       "      <th>2016-12-02</th>\n",
       "      <td>25.638392</td>\n",
       "      <td>25.854452</td>\n",
       "      <td>25.563240</td>\n",
       "      <td>25.809832</td>\n",
       "      <td>106112000</td>\n",
       "      <td>0.0</td>\n",
       "      <td>0</td>\n",
       "      <td>25.724112</td>\n",
       "      <td>25.755846</td>\n",
       "      <td>NaN</td>\n",
       "      <td>NaN</td>\n",
       "      <td>NaN</td>\n",
       "      <td>NaN</td>\n",
       "    </tr>\n",
       "    <tr>\n",
       "      <th>2016-12-05</th>\n",
       "      <td>25.833317</td>\n",
       "      <td>25.840362</td>\n",
       "      <td>25.422332</td>\n",
       "      <td>25.624302</td>\n",
       "      <td>137298000</td>\n",
       "      <td>0.0</td>\n",
       "      <td>0</td>\n",
       "      <td>25.728809</td>\n",
       "      <td>25.757374</td>\n",
       "      <td>NaN</td>\n",
       "      <td>NaN</td>\n",
       "      <td>NaN</td>\n",
       "      <td>NaN</td>\n",
       "    </tr>\n",
       "    <tr>\n",
       "      <th>2016-12-06</th>\n",
       "      <td>25.715892</td>\n",
       "      <td>25.917862</td>\n",
       "      <td>25.643090</td>\n",
       "      <td>25.821573</td>\n",
       "      <td>104782000</td>\n",
       "      <td>0.0</td>\n",
       "      <td>0</td>\n",
       "      <td>25.768733</td>\n",
       "      <td>25.796281</td>\n",
       "      <td>NaN</td>\n",
       "      <td>NaN</td>\n",
       "      <td>NaN</td>\n",
       "      <td>NaN</td>\n",
       "    </tr>\n",
       "    <tr>\n",
       "      <th>2016-12-07</th>\n",
       "      <td>25.659532</td>\n",
       "      <td>26.112789</td>\n",
       "      <td>25.636047</td>\n",
       "      <td>26.075212</td>\n",
       "      <td>119994800</td>\n",
       "      <td>0.0</td>\n",
       "      <td>0</td>\n",
       "      <td>25.867372</td>\n",
       "      <td>25.893962</td>\n",
       "      <td>NaN</td>\n",
       "      <td>NaN</td>\n",
       "      <td>NaN</td>\n",
       "      <td>NaN</td>\n",
       "    </tr>\n",
       "    <tr>\n",
       "      <th>...</th>\n",
       "      <td>...</td>\n",
       "      <td>...</td>\n",
       "      <td>...</td>\n",
       "      <td>...</td>\n",
       "      <td>...</td>\n",
       "      <td>...</td>\n",
       "      <td>...</td>\n",
       "      <td>...</td>\n",
       "      <td>...</td>\n",
       "      <td>...</td>\n",
       "      <td>...</td>\n",
       "      <td>...</td>\n",
       "      <td>...</td>\n",
       "    </tr>\n",
       "    <tr>\n",
       "      <th>2019-07-25</th>\n",
       "      <td>51.007379</td>\n",
       "      <td>51.092845</td>\n",
       "      <td>50.479943</td>\n",
       "      <td>50.550758</td>\n",
       "      <td>55638400</td>\n",
       "      <td>0.0</td>\n",
       "      <td>0</td>\n",
       "      <td>50.779069</td>\n",
       "      <td>50.496017</td>\n",
       "      <td>0.660953</td>\n",
       "      <td>-0.125788</td>\n",
       "      <td>NaN</td>\n",
       "      <td>NaN</td>\n",
       "    </tr>\n",
       "    <tr>\n",
       "      <th>2019-07-26</th>\n",
       "      <td>50.663080</td>\n",
       "      <td>51.212492</td>\n",
       "      <td>50.580059</td>\n",
       "      <td>50.726570</td>\n",
       "      <td>70475600</td>\n",
       "      <td>0.0</td>\n",
       "      <td>0</td>\n",
       "      <td>50.694825</td>\n",
       "      <td>50.412877</td>\n",
       "      <td>0.477774</td>\n",
       "      <td>0.704924</td>\n",
       "      <td>NaN</td>\n",
       "      <td>NaN</td>\n",
       "    </tr>\n",
       "    <tr>\n",
       "      <th>2019-07-29</th>\n",
       "      <td>50.902379</td>\n",
       "      <td>51.434697</td>\n",
       "      <td>50.897495</td>\n",
       "      <td>51.200279</td>\n",
       "      <td>86693600</td>\n",
       "      <td>0.0</td>\n",
       "      <td>0</td>\n",
       "      <td>51.051329</td>\n",
       "      <td>50.749671</td>\n",
       "      <td>0.605359</td>\n",
       "      <td>-0.119868</td>\n",
       "      <td>NaN</td>\n",
       "      <td>NaN</td>\n",
       "    </tr>\n",
       "    <tr>\n",
       "      <th>2019-07-30</th>\n",
       "      <td>50.975634</td>\n",
       "      <td>51.317492</td>\n",
       "      <td>50.621569</td>\n",
       "      <td>50.980518</td>\n",
       "      <td>135742800</td>\n",
       "      <td>0.0</td>\n",
       "      <td>0</td>\n",
       "      <td>50.978076</td>\n",
       "      <td>50.677108</td>\n",
       "      <td>0.344720</td>\n",
       "      <td>4.055612</td>\n",
       "      <td>NaN</td>\n",
       "      <td>NaN</td>\n",
       "    </tr>\n",
       "    <tr>\n",
       "      <th>2019-07-31</th>\n",
       "      <td>52.846084</td>\n",
       "      <td>54.054789</td>\n",
       "      <td>51.595868</td>\n",
       "      <td>52.020744</td>\n",
       "      <td>277125600</td>\n",
       "      <td>0.0</td>\n",
       "      <td>0</td>\n",
       "      <td>52.433414</td>\n",
       "      <td>52.075159</td>\n",
       "      <td>1.488369</td>\n",
       "      <td>NaN</td>\n",
       "      <td>NaN</td>\n",
       "      <td>NaN</td>\n",
       "    </tr>\n",
       "  </tbody>\n",
       "</table>\n",
       "<p>669 rows × 13 columns</p>\n",
       "</div>"
      ],
      "text/plain": [
       "                 Open       High        Low      Close     Volume  Dividends  \\\n",
       "Date                                                                           \n",
       "2016-12-01  25.920214  26.054078  25.605517  25.713547  148347600        0.0   \n",
       "2016-12-02  25.638392  25.854452  25.563240  25.809832  106112000        0.0   \n",
       "2016-12-05  25.833317  25.840362  25.422332  25.624302  137298000        0.0   \n",
       "2016-12-06  25.715892  25.917862  25.643090  25.821573  104782000        0.0   \n",
       "2016-12-07  25.659532  26.112789  25.636047  26.075212  119994800        0.0   \n",
       "...               ...        ...        ...        ...        ...        ...   \n",
       "2019-07-25  51.007379  51.092845  50.479943  50.550758   55638400        0.0   \n",
       "2019-07-26  50.663080  51.212492  50.580059  50.726570   70475600        0.0   \n",
       "2019-07-29  50.902379  51.434697  50.897495  51.200279   86693600        0.0   \n",
       "2019-07-30  50.975634  51.317492  50.621569  50.980518  135742800        0.0   \n",
       "2019-07-31  52.846084  54.054789  51.595868  52.020744  277125600        0.0   \n",
       "\n",
       "            Stock Splits          S          X  sigma_hat         Y  Xhat  \\\n",
       "Date                                                                        \n",
       "2016-12-01             0  25.816881  25.849792        NaN       NaN   NaN   \n",
       "2016-12-02             0  25.724112  25.755846        NaN       NaN   NaN   \n",
       "2016-12-05             0  25.728809  25.757374        NaN       NaN   NaN   \n",
       "2016-12-06             0  25.768733  25.796281        NaN       NaN   NaN   \n",
       "2016-12-07             0  25.867372  25.893962        NaN       NaN   NaN   \n",
       "...                  ...        ...        ...        ...       ...   ...   \n",
       "2019-07-25             0  50.779069  50.496017   0.660953 -0.125788   NaN   \n",
       "2019-07-26             0  50.694825  50.412877   0.477774  0.704924   NaN   \n",
       "2019-07-29             0  51.051329  50.749671   0.605359 -0.119868   NaN   \n",
       "2019-07-30             0  50.978076  50.677108   0.344720  4.055612   NaN   \n",
       "2019-07-31             0  52.433414  52.075159   1.488369       NaN   NaN   \n",
       "\n",
       "            Yhat  \n",
       "Date              \n",
       "2016-12-01   NaN  \n",
       "2016-12-02   NaN  \n",
       "2016-12-05   NaN  \n",
       "2016-12-06   NaN  \n",
       "2016-12-07   NaN  \n",
       "...          ...  \n",
       "2019-07-25   NaN  \n",
       "2019-07-26   NaN  \n",
       "2019-07-29   NaN  \n",
       "2019-07-30   NaN  \n",
       "2019-07-31   NaN  \n",
       "\n",
       "[669 rows x 13 columns]"
      ]
     },
     "execution_count": 68,
     "metadata": {},
     "output_type": "execute_result"
    }
   ],
   "source": [
    "df = P.read_csv(pathStocks / 'AAPL.csv').set_index('Date')\n",
    "df.index = df.index.map(lambda x:P.to_datetime(x, format='%Y-%m-%d'))\n",
    "\n",
    "df = predict_stock(df)\n",
    "df"
   ]
  },
  {
   "cell_type": "code",
   "execution_count": 69,
   "metadata": {},
   "outputs": [
    {
     "data": {
      "image/png": "[encoded data removed]",
      "text/plain": [
       "<Figure size 1152x576 with 2 Axes>"
      ]
     },
     "metadata": {},
     "output_type": "display_data"
    }
   ],
   "source": [
    "fig, axs = pyplot.subplots(1, 2, figsize=(16,8))\n",
    "df_plot = df[df.index.map(lambda x:startTest <= x < endTest)].reset_index()\n",
    "seaborn.lineplot(x='Date', y='value', hue='type', ax=axs[0],\n",
    "                data=df_plot[['Date', 'X', 'Xhat']].melt(id_vars='Date', value_name='value', var_name='type'))\n",
    "seaborn.lineplot(x='Date', y='value', hue='type', ax=axs[1],\n",
    "                data=df_plot[['Date', 'Y', 'Yhat']].melt(id_vars='Date', value_name='value', var_name='type'))\n",
    "fig.tight_layout()"
   ]
  },
  {
   "cell_type": "markdown",
   "metadata": {},
   "source": [
    "## Legacy code"
   ]
  },
  {
   "cell_type": "code",
   "execution_count": 33,
   "metadata": {},
   "outputs": [],
   "source": [
    "from datetime import timedelta, date\n",
    "def daterange(start_date, end_date):\n",
    "    for n in range(int((end_date - start_date).days)):\n",
    "        yield start_date + timedelta(n)"
   ]
  },
  {
   "cell_type": "code",
   "execution_count": 43,
   "metadata": {},
   "outputs": [],
   "source": [
    "def predict_stock(symbol):\n",
    "    file_name = symbol + '.csv'\n",
    "    df = P.read_csv(pathStocks / file_name).set_index('Date')\n",
    "    df = df[['Close']]\n",
    "    \n",
    "    train_mask = df.index.map(lambda x:x[:4] == '2017' or x[:4] == '2018')\n",
    "    params = train_arima_model(df[train_mask])\n",
    "    \n",
    "    start_date = date(2019, 1, 1)\n",
    "    end_date = date(2019, 7, 1)\n",
    "\n",
    "    temp_df = df[train_mask].copy()\n",
    "    for single_date in tqdm(list(daterange(start_date, end_date))):\n",
    "        date_str = single_date.strftime(\"%Y-%m-%d\")\n",
    "        model = evaluate_arima_model(temp_df, params)\n",
    "        next_close = model.forecast(steps=1)[0][0]\n",
    "        temp_df = temp_df.append(P.DataFrame({'Close': next_close}, index = [date_str]))\n",
    "\n",
    "    temp_df.to_csv(pathARIMA / file_name, header = True, index_label = 'Date')"
   ]
  },
  {
   "cell_type": "code",
   "execution_count": 44,
   "metadata": {},
   "outputs": [
    {
     "name": "stdout",
     "output_type": "stream",
     "text": [
      "ARIMA(0, 0, 0) - AIC:6452.857409309223\n",
      "ARIMA(0, 0, 1) - AIC:5604.672882693521\n",
      "ARIMA(0, 0, 2) - AIC:4835.799314189104\n",
      "ARIMA(0, 1, 0) - AIC:1282.2147375746836\n",
      "ARIMA(0, 1, 1) - AIC:1284.075519866524\n",
      "ARIMA(0, 1, 2) - AIC:1285.281429784211\n",
      "ARIMA(0, 2, 0) - AIC:1704.4389200941603\n",
      "ARIMA(0, 2, 1) - AIC:1288.0459589757638\n",
      "ARIMA(0, 2, 2) - AIC:1289.9206061984023\n",
      "ARIMA(1, 0, 0) - AIC:1294.3521992144501\n",
      "ARIMA(1, 0, 1) - AIC:1296.2115400713667\n",
      "ARIMA(1, 0, 2) - AIC:1297.4209231113673\n",
      "ARIMA(1, 1, 0) - AIC:1284.0858594944048\n",
      "ARIMA(1, 1, 1) - AIC:1284.5602155831716\n",
      "ARIMA(1, 1, 2) - AIC:1287.2722718690031\n",
      "ARIMA(1, 2, 0) - AIC:1548.0938961754619\n",
      "ARIMA(1, 2, 1) - AIC:1289.9438009504547\n",
      "ARIMA(1, 2, 2) - AIC:1290.4004462784983\n",
      "ARIMA(2, 0, 0) - AIC:1296.221958570299\n",
      "ARIMA(2, 0, 1) - AIC:1296.6971978884462\n",
      "ARIMA(2, 0, 2) - AIC:1299.2193530233371\n",
      "ARIMA(2, 1, 0) - AIC:1285.2122688782056\n",
      "ARIMA(2, 1, 1) - AIC:1287.1989782860264\n",
      "ARIMA(2, 1, 2) - AIC:1276.4705701032533\n",
      "ARIMA(2, 2, 0) - AIC:1472.922062638842\n",
      "ARIMA(2, 2, 1) - AIC:1291.0094954396068\n"
     ]
    },
    {
     "name": "stderr",
     "output_type": "stream",
     "text": [
      "  0%|          | 0/181 [00:00<?, ?it/s]"
     ]
    },
    {
     "name": "stdout",
     "output_type": "stream",
     "text": [
      "ARIMA(2, 2, 2) - AIC:1292.2744853520444\n"
     ]
    },
    {
     "name": "stderr",
     "output_type": "stream",
     "text": [
      "100%|██████████| 181/181 [01:13<00:00,  2.47it/s]\n"
     ]
    }
   ],
   "source": [
    "predict_stock('AAPL')"
   ]
  },
  {
   "cell_type": "code",
   "execution_count": 1,
   "metadata": {},
   "outputs": [
    {
     "name": "stdout",
     "output_type": "stream",
     "text": [
      "[*********************100%***********************]  1 of 1 completed\n"
     ]
    }
   ],
   "source": [
    "from pandas_datareader import data as pdr\n",
    "import matplotlib.pyplot as plt\n",
    "%matplotlib inline\n",
    "import statsmodels.api as sm\n",
    "import itertools\n",
    "from statsmodels.tsa.arima_model import ARIMA\n",
    "import warnings\n",
    "warnings.filterwarnings(\"ignore\")\n",
    "\n",
    "import yfinance as yf\n",
    "yf.pdr_override() # <== that's all it takes :-)\n",
    "\n",
    "data = pdr.get_data_yahoo(\"MSFT\", start=\"2020-01-01\", end=\"2020-08-31\")"
   ]
  },
  {
   "cell_type": "code",
   "execution_count": 2,
   "metadata": {},
   "outputs": [
    {
     "data": {
      "text/html": [
       "<div>\n",
       "<style scoped>\n",
       "    .dataframe tbody tr th:only-of-type {\n",
       "        vertical-align: middle;\n",
       "    }\n",
       "\n",
       "    .dataframe tbody tr th {\n",
       "        vertical-align: top;\n",
       "    }\n",
       "\n",
       "    .dataframe thead th {\n",
       "        text-align: right;\n",
       "    }\n",
       "</style>\n",
       "<table border=\"1\" class=\"dataframe\">\n",
       "  <thead>\n",
       "    <tr style=\"text-align: right;\">\n",
       "      <th></th>\n",
       "      <th>Open</th>\n",
       "      <th>High</th>\n",
       "      <th>Low</th>\n",
       "      <th>Close</th>\n",
       "      <th>Adj Close</th>\n",
       "      <th>Volume</th>\n",
       "    </tr>\n",
       "    <tr>\n",
       "      <th>Date</th>\n",
       "      <th></th>\n",
       "      <th></th>\n",
       "      <th></th>\n",
       "      <th></th>\n",
       "      <th></th>\n",
       "      <th></th>\n",
       "    </tr>\n",
       "  </thead>\n",
       "  <tbody>\n",
       "    <tr>\n",
       "      <th>2020-01-02</th>\n",
       "      <td>158.779999</td>\n",
       "      <td>160.729996</td>\n",
       "      <td>158.330002</td>\n",
       "      <td>160.619995</td>\n",
       "      <td>158.936279</td>\n",
       "      <td>22622100</td>\n",
       "    </tr>\n",
       "    <tr>\n",
       "      <th>2020-01-03</th>\n",
       "      <td>158.320007</td>\n",
       "      <td>159.949997</td>\n",
       "      <td>158.059998</td>\n",
       "      <td>158.619995</td>\n",
       "      <td>156.957260</td>\n",
       "      <td>21116200</td>\n",
       "    </tr>\n",
       "    <tr>\n",
       "      <th>2020-01-06</th>\n",
       "      <td>157.080002</td>\n",
       "      <td>159.100006</td>\n",
       "      <td>156.509995</td>\n",
       "      <td>159.029999</td>\n",
       "      <td>157.362961</td>\n",
       "      <td>20813700</td>\n",
       "    </tr>\n",
       "    <tr>\n",
       "      <th>2020-01-07</th>\n",
       "      <td>159.320007</td>\n",
       "      <td>159.669998</td>\n",
       "      <td>157.320007</td>\n",
       "      <td>157.580002</td>\n",
       "      <td>155.928177</td>\n",
       "      <td>21634100</td>\n",
       "    </tr>\n",
       "    <tr>\n",
       "      <th>2020-01-08</th>\n",
       "      <td>158.929993</td>\n",
       "      <td>160.800003</td>\n",
       "      <td>157.949997</td>\n",
       "      <td>160.089996</td>\n",
       "      <td>158.411835</td>\n",
       "      <td>27746500</td>\n",
       "    </tr>\n",
       "  </tbody>\n",
       "</table>\n",
       "</div>"
      ],
      "text/plain": [
       "                  Open        High         Low       Close   Adj Close  \\\n",
       "Date                                                                     \n",
       "2020-01-02  158.779999  160.729996  158.330002  160.619995  158.936279   \n",
       "2020-01-03  158.320007  159.949997  158.059998  158.619995  156.957260   \n",
       "2020-01-06  157.080002  159.100006  156.509995  159.029999  157.362961   \n",
       "2020-01-07  159.320007  159.669998  157.320007  157.580002  155.928177   \n",
       "2020-01-08  158.929993  160.800003  157.949997  160.089996  158.411835   \n",
       "\n",
       "              Volume  \n",
       "Date                  \n",
       "2020-01-02  22622100  \n",
       "2020-01-03  21116200  \n",
       "2020-01-06  20813700  \n",
       "2020-01-07  21634100  \n",
       "2020-01-08  27746500  "
      ]
     },
     "execution_count": 2,
     "metadata": {},
     "output_type": "execute_result"
    }
   ],
   "source": [
    "data.head()"
   ]
  },
  {
   "cell_type": "code",
   "execution_count": 3,
   "metadata": {},
   "outputs": [
    {
     "name": "stdout",
     "output_type": "stream",
     "text": [
      "<class 'pandas.core.frame.DataFrame'>\n",
      "DatetimeIndex: 167 entries, 2020-01-02 to 2020-08-28\n",
      "Data columns (total 6 columns):\n",
      " #   Column     Non-Null Count  Dtype  \n",
      "---  ------     --------------  -----  \n",
      " 0   Open       167 non-null    float64\n",
      " 1   High       167 non-null    float64\n",
      " 2   Low        167 non-null    float64\n",
      " 3   Close      167 non-null    float64\n",
      " 4   Adj Close  167 non-null    float64\n",
      " 5   Volume     167 non-null    int64  \n",
      "dtypes: float64(5), int64(1)\n",
      "memory usage: 9.1 KB\n"
     ]
    }
   ],
   "source": [
    "data.info()"
   ]
  },
  {
   "cell_type": "code",
   "execution_count": 4,
   "metadata": {},
   "outputs": [
    {
     "data": {
      "text/plain": [
       "<AxesSubplot:xlabel='Date'>"
      ]
     },
     "execution_count": 4,
     "metadata": {},
     "output_type": "execute_result"
    },
    {
     "data": {
      "image/png": "[encoded data removed]",
      "text/plain": [
       "<Figure size 432x288 with 1 Axes>"
      ]
     },
     "metadata": {
      "needs_background": "light"
     },
     "output_type": "display_data"
    }
   ],
   "source": [
    "df = data[['Close']]\n",
    "\n",
    "df.plot(style=\"-\")"
   ]
  },
  {
   "cell_type": "code",
   "execution_count": 5,
   "metadata": {},
   "outputs": [],
   "source": [
    "def arima(df):\n",
    "    # Define the p, d and q parameters to take any value between 0 and 3\n",
    "    p = d = q = range(0, 3)\n",
    "    # Generate all different combinations of p, q and q\n",
    "    pdq = list(itertools.product(p, d, q))\n",
    "    \n",
    "    warnings.filterwarnings(\"ignore\")\n",
    "    aic= []\n",
    "    parameters = []\n",
    "    for param in pdq:\n",
    "        #for param in pdq:\n",
    "        try:\n",
    "            mod = sm.tsa.statespace.SARIMAX(df, order=param,       \n",
    "            enforce_stationarity=True, enforce_invertibility=True)\n",
    "\n",
    "            results = mod.fit()\n",
    "            # save results in lists\n",
    "            aic.append(results.aic)\n",
    "            parameters.append(param)\n",
    "            #seasonal_param.append(param_seasonal)\n",
    "            print('ARIMA{} - AIC:{}'.format(param, results.aic))\n",
    "        except:\n",
    "            continue\n",
    "    # find lowest aic          \n",
    "    index_min = min(range(len(aic)), key=aic.__getitem__)           \n",
    "\n",
    "    print('The optimal model is: ARIMA{} -AIC{}'.format(parameters[index_min], aic[index_min]))\n",
    "    \n",
    "    model = ARIMA(df, order=parameters[index_min])\n",
    "    model_fit = model.fit(disp=0)\n",
    "    return model_fit"
   ]
  },
  {
   "cell_type": "code",
   "execution_count": 6,
   "metadata": {},
   "outputs": [
    {
     "name": "stdout",
     "output_type": "stream",
     "text": [
      "ARIMA(0, 0, 0) - AIC:2217.0343074553602\n",
      "ARIMA(0, 0, 1) - AIC:1994.933591489852\n",
      "ARIMA(0, 0, 2) - AIC:1853.2437803837458\n",
      "ARIMA(0, 1, 0) - AIC:1014.1811469920146\n",
      "ARIMA(0, 1, 1) - AIC:992.776514028533\n",
      "ARIMA(0, 1, 2) - AIC:985.6772076304838\n",
      "ARIMA(0, 2, 0) - AIC:1178.9828431191715\n",
      "ARIMA(0, 2, 1) - AIC:1015.1164651670588\n",
      "ARIMA(0, 2, 2) - AIC:993.0043746148124\n",
      "ARIMA(1, 0, 0) - AIC:1029.5613920771477\n",
      "ARIMA(1, 0, 1) - AIC:1008.1645051977601\n",
      "ARIMA(1, 0, 2) - AIC:1001.0771001791026\n",
      "ARIMA(1, 1, 0) - AIC:987.1508434930377\n",
      "ARIMA(1, 1, 1) - AIC:989.1506116052183\n",
      "ARIMA(1, 1, 2) - AIC:987.5993813909215\n",
      "ARIMA(1, 2, 0) - AIC:1069.2867744330463\n",
      "ARIMA(1, 2, 1) - AIC:987.4742976379662\n",
      "ARIMA(1, 2, 2) - AIC:989.4699208495706\n",
      "ARIMA(2, 0, 0) - AIC:1002.5431340859041\n",
      "ARIMA(2, 0, 1) - AIC:1004.5429102197033\n",
      "ARIMA(2, 0, 2) - AIC:1006.9147463133488\n",
      "ARIMA(2, 1, 0) - AIC:989.1504299585871\n",
      "ARIMA(2, 1, 1) - AIC:989.7974858892692\n",
      "ARIMA(2, 1, 2) - AIC:989.3580310387098\n",
      "ARIMA(2, 2, 0) - AIC:1022.5870409745814\n",
      "ARIMA(2, 2, 1) - AIC:989.4658203417697\n",
      "ARIMA(2, 2, 2) - AIC:981.8645934808806\n",
      "The optimal model is: ARIMA(2, 2, 2) -AIC981.8645934808806\n",
      "                             ARIMA Model Results                              \n",
      "==============================================================================\n",
      "Dep. Variable:               D2.Close   No. Observations:                  165\n",
      "Model:                 ARIMA(2, 2, 2)   Log Likelihood                -485.438\n",
      "Method:                       css-mle   S.D. of innovations              4.468\n",
      "Date:                Sun, 29 Nov 2020   AIC                            982.875\n",
      "Time:                        02:59:56   BIC                           1001.511\n",
      "Sample:                             2   HQIC                           990.440\n",
      "                                                                              \n",
      "==================================================================================\n",
      "                     coef    std err          z      P>|z|      [0.025      0.975]\n",
      "----------------------------------------------------------------------------------\n",
      "const              0.0052      0.005      1.011      0.312      -0.005       0.015\n",
      "ar.L1.D2.Close    -1.3640      0.069    -19.779      0.000      -1.499      -1.229\n",
      "ar.L2.D2.Close    -0.4455      0.069     -6.466      0.000      -0.581      -0.310\n",
      "ma.L1.D2.Close -5.152e-08        nan        nan        nan         nan         nan\n",
      "ma.L2.D2.Close    -1.0000        nan        nan        nan         nan         nan\n",
      "                                    Roots                                    \n",
      "=============================================================================\n",
      "                  Real          Imaginary           Modulus         Frequency\n",
      "-----------------------------------------------------------------------------\n",
      "AR.1           -1.2164           +0.0000j            1.2164            0.5000\n",
      "AR.2           -1.8452           +0.0000j            1.8452            0.5000\n",
      "MA.1            1.0000           +0.0000j            1.0000            0.0000\n",
      "MA.2           -1.0000           +0.0000j            1.0000            0.5000\n",
      "-----------------------------------------------------------------------------\n"
     ]
    },
    {
     "data": {
      "image/png": "[encoded data removed]",
      "text/plain": [
       "<Figure size 432x288 with 1 Axes>"
      ]
     },
     "metadata": {
      "needs_background": "light"
     },
     "output_type": "display_data"
    }
   ],
   "source": [
    "arima_result = arima(df)\n",
    "print(arima_result.summary())\n",
    "arima_result.plot_predict(start=2, end=len(df)+12)\n",
    "plt.show()"
   ]
  },
  {
   "cell_type": "code",
   "execution_count": 7,
   "metadata": {},
   "outputs": [
    {
     "data": {
      "text/plain": [
       "(array([229.34677948, 229.9882719 , 231.20873087, 231.56295938,\n",
       "        232.85553489, 233.26880976, 234.47814421, 235.00808807,\n",
       "        236.12479833, 236.75853747]),\n",
       " array([ 4.4683061 ,  5.29533848,  6.12076629,  7.04254019,  7.58523579,\n",
       "         8.37123606,  8.84328178,  9.49985883,  9.94225713, 10.50430947]),\n",
       " array([[220.58906044, 238.10449851],\n",
       "        [219.60959918, 240.36694461],\n",
       "        [219.21224939, 243.20521235],\n",
       "        [217.75983424, 245.36608452],\n",
       "        [217.98874593, 247.72232385],\n",
       "        [216.86148858, 249.67613094],\n",
       "        [217.14563042, 251.81065801],\n",
       "        [216.38870691, 253.62746923],\n",
       "        [216.63833244, 255.61126422],\n",
       "        [216.17046923, 257.3466057 ]]))"
      ]
     },
     "execution_count": 7,
     "metadata": {},
     "output_type": "execute_result"
    }
   ],
   "source": [
    "arima_result.forecast(steps=10)"
   ]
  },
  {
   "cell_type": "code",
   "execution_count": null,
   "metadata": {},
   "outputs": [],
   "source": []
  }
 ],
 "metadata": {
  "kernelspec": {
   "display_name": "Python 3",
   "language": "python",
   "name": "python3"
  },
  "language_info": {
   "codemirror_mode": {
    "name": "ipython",
    "version": 3
   },
   "file_extension": ".py",
   "mimetype": "text/x-python",
   "name": "python",
   "nbconvert_exporter": "python",
   "pygments_lexer": "ipython3",
   "version": "3.8.0"
  }
 },
 "nbformat": 4,
 "nbformat_minor": 4
}
