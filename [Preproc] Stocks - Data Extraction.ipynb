{
 "cells": [
  {
   "cell_type": "markdown",
   "metadata": {},
   "source": [
    "# Stock Data Extraction\n",
    "\n",
    "From Yahoo Finance\n",
    "\n",
    "Authors: Rebecca, Leni"
   ]
  },
  {
   "cell_type": "code",
   "execution_count": 1,
   "metadata": {},
   "outputs": [],
   "source": [
    "import datetime\n",
    "import importlib\n",
    "import numpy as N\n",
    "import numpy.random as NR\n",
    "import matplotlib.pyplot as pyplot\n",
    "import seaborn\n",
    "import pandas as P\n",
    "import csv\n",
    "import tqdm.notebook\n",
    "from pathlib import Path\n",
    "\n",
    "import bokeh\n",
    "import bokeh.plotting\n",
    "import yfinance as yf\n",
    "\n",
    "seaborn.set_style('whitegrid')"
   ]
  },
  {
   "cell_type": "markdown",
   "metadata": {},
   "source": [
    "## Read Stock Data from Yahoo Finance"
   ]
  },
  {
   "cell_type": "code",
   "execution_count": 2,
   "metadata": {},
   "outputs": [
    {
     "data": {
      "text/html": [
       "<div>\n",
       "<style scoped>\n",
       "    .dataframe tbody tr th:only-of-type {\n",
       "        vertical-align: middle;\n",
       "    }\n",
       "\n",
       "    .dataframe tbody tr th {\n",
       "        vertical-align: top;\n",
       "    }\n",
       "\n",
       "    .dataframe thead th {\n",
       "        text-align: right;\n",
       "    }\n",
       "</style>\n",
       "<table border=\"1\" class=\"dataframe\">\n",
       "  <thead>\n",
       "    <tr style=\"text-align: right;\">\n",
       "      <th></th>\n",
       "      <th>Category</th>\n",
       "      <th>Ticker</th>\n",
       "    </tr>\n",
       "  </thead>\n",
       "  <tbody>\n",
       "    <tr>\n",
       "      <th>0</th>\n",
       "      <td>Tech</td>\n",
       "      <td>MSFT</td>\n",
       "    </tr>\n",
       "    <tr>\n",
       "      <th>1</th>\n",
       "      <td>Tech</td>\n",
       "      <td>AAPL</td>\n",
       "    </tr>\n",
       "    <tr>\n",
       "      <th>2</th>\n",
       "      <td>Tech</td>\n",
       "      <td>FB</td>\n",
       "    </tr>\n",
       "    <tr>\n",
       "      <th>3</th>\n",
       "      <td>Tech</td>\n",
       "      <td>GOOG</td>\n",
       "    </tr>\n",
       "    <tr>\n",
       "      <th>4</th>\n",
       "      <td>Tech</td>\n",
       "      <td>NFLX</td>\n",
       "    </tr>\n",
       "    <tr>\n",
       "      <th>5</th>\n",
       "      <td>Tech</td>\n",
       "      <td>AMZN</td>\n",
       "    </tr>\n",
       "    <tr>\n",
       "      <th>6</th>\n",
       "      <td>Tech</td>\n",
       "      <td>INTL</td>\n",
       "    </tr>\n",
       "    <tr>\n",
       "      <th>7</th>\n",
       "      <td>Tech</td>\n",
       "      <td>QQQ</td>\n",
       "    </tr>\n",
       "    <tr>\n",
       "      <th>8</th>\n",
       "      <td>Tech</td>\n",
       "      <td>QCOM</td>\n",
       "    </tr>\n",
       "    <tr>\n",
       "      <th>9</th>\n",
       "      <td>Energy</td>\n",
       "      <td>OXY</td>\n",
       "    </tr>\n",
       "    <tr>\n",
       "      <th>10</th>\n",
       "      <td>Energy</td>\n",
       "      <td>XOM</td>\n",
       "    </tr>\n",
       "    <tr>\n",
       "      <th>11</th>\n",
       "      <td>Energy</td>\n",
       "      <td>CVX</td>\n",
       "    </tr>\n",
       "    <tr>\n",
       "      <th>12</th>\n",
       "      <td>Energy</td>\n",
       "      <td>XLK</td>\n",
       "    </tr>\n",
       "    <tr>\n",
       "      <th>13</th>\n",
       "      <td>Motors</td>\n",
       "      <td>TSLA</td>\n",
       "    </tr>\n",
       "    <tr>\n",
       "      <th>14</th>\n",
       "      <td>Motors</td>\n",
       "      <td>GM</td>\n",
       "    </tr>\n",
       "    <tr>\n",
       "      <th>15</th>\n",
       "      <td>Motors</td>\n",
       "      <td>F</td>\n",
       "    </tr>\n",
       "    <tr>\n",
       "      <th>16</th>\n",
       "      <td>Financials</td>\n",
       "      <td>BRK-B</td>\n",
       "    </tr>\n",
       "    <tr>\n",
       "      <th>17</th>\n",
       "      <td>Financials</td>\n",
       "      <td>JPM</td>\n",
       "    </tr>\n",
       "    <tr>\n",
       "      <th>18</th>\n",
       "      <td>Financials</td>\n",
       "      <td>GS</td>\n",
       "    </tr>\n",
       "    <tr>\n",
       "      <th>19</th>\n",
       "      <td>Financials</td>\n",
       "      <td>BAC</td>\n",
       "    </tr>\n",
       "    <tr>\n",
       "      <th>20</th>\n",
       "      <td>Consumer</td>\n",
       "      <td>MCD</td>\n",
       "    </tr>\n",
       "    <tr>\n",
       "      <th>21</th>\n",
       "      <td>Consumer</td>\n",
       "      <td>HD</td>\n",
       "    </tr>\n",
       "    <tr>\n",
       "      <th>22</th>\n",
       "      <td>Consumer</td>\n",
       "      <td>DIS</td>\n",
       "    </tr>\n",
       "    <tr>\n",
       "      <th>23</th>\n",
       "      <td>Consumer</td>\n",
       "      <td>KO</td>\n",
       "    </tr>\n",
       "    <tr>\n",
       "      <th>24</th>\n",
       "      <td>Consumer</td>\n",
       "      <td>PG</td>\n",
       "    </tr>\n",
       "    <tr>\n",
       "      <th>25</th>\n",
       "      <td>Consumer</td>\n",
       "      <td>PEP</td>\n",
       "    </tr>\n",
       "    <tr>\n",
       "      <th>26</th>\n",
       "      <td>Industrial</td>\n",
       "      <td>BA</td>\n",
       "    </tr>\n",
       "    <tr>\n",
       "      <th>27</th>\n",
       "      <td>Industrial</td>\n",
       "      <td>LMT</td>\n",
       "    </tr>\n",
       "    <tr>\n",
       "      <th>28</th>\n",
       "      <td>Industrial</td>\n",
       "      <td>RTX</td>\n",
       "    </tr>\n",
       "    <tr>\n",
       "      <th>29</th>\n",
       "      <td>Index</td>\n",
       "      <td>^IXIC</td>\n",
       "    </tr>\n",
       "    <tr>\n",
       "      <th>30</th>\n",
       "      <td>Index</td>\n",
       "      <td>^GSPC</td>\n",
       "    </tr>\n",
       "    <tr>\n",
       "      <th>31</th>\n",
       "      <td>Index</td>\n",
       "      <td>^DJI</td>\n",
       "    </tr>\n",
       "  </tbody>\n",
       "</table>\n",
       "</div>"
      ],
      "text/plain": [
       "      Category Ticker\n",
       "0         Tech   MSFT\n",
       "1         Tech   AAPL\n",
       "2         Tech     FB\n",
       "3         Tech   GOOG\n",
       "4         Tech   NFLX\n",
       "5         Tech   AMZN\n",
       "6         Tech   INTL\n",
       "7         Tech    QQQ\n",
       "8        Tech    QCOM\n",
       "9       Energy    OXY\n",
       "10      Energy    XOM\n",
       "11      Energy    CVX\n",
       "12      Energy    XLK\n",
       "13      Motors   TSLA\n",
       "14      Motors     GM\n",
       "15      Motors      F\n",
       "16  Financials  BRK-B\n",
       "17  Financials    JPM\n",
       "18  Financials     GS\n",
       "19  Financials    BAC\n",
       "20    Consumer    MCD\n",
       "21    Consumer     HD\n",
       "22    Consumer    DIS\n",
       "23    Consumer     KO\n",
       "24    Consumer     PG\n",
       "25    Consumer    PEP\n",
       "26  Industrial     BA\n",
       "27  Industrial    LMT\n",
       "28  Industrial    RTX\n",
       "29       Index  ^IXIC\n",
       "30       Index  ^GSPC\n",
       "31       Index   ^DJI"
      ]
     },
     "execution_count": 2,
     "metadata": {},
     "output_type": "execute_result"
    }
   ],
   "source": [
    "basepath = Path('datasets/Stocks')\n",
    "stock_list = P.read_csv(basepath / \"stocks.csv\")\n",
    "stock_list"
   ]
  },
  {
   "cell_type": "code",
   "execution_count": null,
   "metadata": {},
   "outputs": [],
   "source": []
  },
  {
   "cell_type": "code",
   "execution_count": 3,
   "metadata": {},
   "outputs": [
    {
     "name": "stderr",
     "output_type": "stream",
     "text": [
      "100%|██████████| 32/32 [00:13<00:00,  2.39it/s]\n"
     ]
    }
   ],
   "source": [
    "for ticker in tqdm.tqdm(stock_list['Ticker'].to_list()):\n",
    "    stock = yf.Ticker(ticker)\n",
    "    # Allow some rooms in order to compensate for rolling window edge\n",
    "    hist = stock.history(period=\"max\", start='2016-12-01', end='2019-08-01', interval='1d')\n",
    "    \n",
    "    # Must save with index\n",
    "    hist.to_csv(basepath /  (ticker+'.csv'))"
   ]
  },
  {
   "cell_type": "markdown",
   "metadata": {},
   "source": [
    "## Correction for dividend and annual interest"
   ]
  },
  {
   "cell_type": "code",
   "execution_count": 4,
   "metadata": {},
   "outputs": [],
   "source": [
    "interestRate = 0.015\n",
    "baseDate = P.to_datetime('2017-01-01', format='%Y-%m-%d')\n",
    "def second_moment(x):\n",
    "    x = N.array(x)\n",
    "    if len(x) <= 1:\n",
    "        return float('nan')\n",
    "    x = x[:-1] - x[-1]\n",
    "    return N.sqrt((x * x).mean())\n",
    "\n",
    "def process_one(df):\n",
    "    df['S'] = 0.5 * (df['Open'] + df['Close'])\n",
    "    df['Date'] = df['Date'].map(lambda x: P.to_datetime(x, format='%Y-%m-%d'))\n",
    "    intr = (df['Date'] - baseDate).map(lambda t:N.exp(-t.days / 365 * interestRate))\n",
    "    # Stock fair value\n",
    "    df['X'] = (df['S'] + df['Dividends'].cumsum()) * intr\n",
    "    # Calculate the volatility in the past 7 days\n",
    "    df['sigma_hat'] = df['X'].rolling(7).apply(second_moment)\n",
    "    # Calculate the roll\n",
    "    df['Y'] = -df['X'].diff(periods=-1) / df['sigma_hat']\n",
    "    return df\n",
    "\n",
    "#p = basepath / ('AAPL.csv')\n",
    "#df = P.read_csv(p)\n",
    "#process_one(df)"
   ]
  },
  {
   "cell_type": "code",
   "execution_count": 10,
   "metadata": {},
   "outputs": [
    {
     "name": "stderr",
     "output_type": "stream",
     "text": [
      "  6%|▋         | 2/32 [00:00<00:03,  7.80it/s]"
     ]
    },
    {
     "name": "stdout",
     "output_type": "stream",
     "text": [
      "MSFT: 669\n",
      "AAPL: 669\n"
     ]
    },
    {
     "name": "stderr",
     "output_type": "stream",
     "text": [
      " 12%|█▎        | 4/32 [00:00<00:03,  8.20it/s]"
     ]
    },
    {
     "name": "stdout",
     "output_type": "stream",
     "text": [
      "FB: 669\n",
      "GOOG: 669\n"
     ]
    },
    {
     "name": "stderr",
     "output_type": "stream",
     "text": [
      " 19%|█▉        | 6/32 [00:00<00:03,  8.30it/s]"
     ]
    },
    {
     "name": "stdout",
     "output_type": "stream",
     "text": [
      "NFLX: 669\n",
      "AMZN: 669\n"
     ]
    },
    {
     "name": "stderr",
     "output_type": "stream",
     "text": [
      " 25%|██▌       | 8/32 [00:00<00:02,  8.38it/s]"
     ]
    },
    {
     "name": "stdout",
     "output_type": "stream",
     "text": [
      "INTL: 669\n",
      "QQQ: 669\n"
     ]
    },
    {
     "name": "stderr",
     "output_type": "stream",
     "text": [
      " 31%|███▏      | 10/32 [00:01<00:02,  8.45it/s]"
     ]
    },
    {
     "name": "stdout",
     "output_type": "stream",
     "text": [
      "QCOM: 669\n",
      "OXY: 669\n"
     ]
    },
    {
     "name": "stderr",
     "output_type": "stream",
     "text": [
      " 38%|███▊      | 12/32 [00:01<00:02,  8.59it/s]"
     ]
    },
    {
     "name": "stdout",
     "output_type": "stream",
     "text": [
      "XOM: 669\n",
      "CVX: 669\n"
     ]
    },
    {
     "name": "stderr",
     "output_type": "stream",
     "text": [
      " 44%|████▍     | 14/32 [00:01<00:02,  7.61it/s]"
     ]
    },
    {
     "name": "stdout",
     "output_type": "stream",
     "text": [
      "XLK: 669\n",
      "TSLA: 669\n"
     ]
    },
    {
     "name": "stderr",
     "output_type": "stream",
     "text": [
      " 50%|█████     | 16/32 [00:01<00:01,  8.14it/s]"
     ]
    },
    {
     "name": "stdout",
     "output_type": "stream",
     "text": [
      "GM: 669\n",
      "F: 669\n"
     ]
    },
    {
     "name": "stderr",
     "output_type": "stream",
     "text": [
      " 56%|█████▋    | 18/32 [00:02<00:01,  8.55it/s]"
     ]
    },
    {
     "name": "stdout",
     "output_type": "stream",
     "text": [
      "BRK-B: 669\n",
      "JPM: 669\n"
     ]
    },
    {
     "name": "stderr",
     "output_type": "stream",
     "text": [
      " 62%|██████▎   | 20/32 [00:02<00:01,  8.77it/s]"
     ]
    },
    {
     "name": "stdout",
     "output_type": "stream",
     "text": [
      "GS: 669\n",
      "BAC: 670\n"
     ]
    },
    {
     "name": "stderr",
     "output_type": "stream",
     "text": [
      " 69%|██████▉   | 22/32 [00:02<00:01,  8.79it/s]"
     ]
    },
    {
     "name": "stdout",
     "output_type": "stream",
     "text": [
      "MCD: 669\n",
      "HD: 669\n"
     ]
    },
    {
     "name": "stderr",
     "output_type": "stream",
     "text": [
      " 75%|███████▌  | 24/32 [00:02<00:00,  8.92it/s]"
     ]
    },
    {
     "name": "stdout",
     "output_type": "stream",
     "text": [
      "DIS: 669\n",
      "KO: 669\n"
     ]
    },
    {
     "name": "stderr",
     "output_type": "stream",
     "text": [
      " 81%|████████▏ | 26/32 [00:03<00:00,  8.95it/s]"
     ]
    },
    {
     "name": "stdout",
     "output_type": "stream",
     "text": [
      "PG: 669\n",
      "PEP: 670\n"
     ]
    },
    {
     "name": "stderr",
     "output_type": "stream",
     "text": [
      " 88%|████████▊ | 28/32 [00:03<00:00,  8.66it/s]"
     ]
    },
    {
     "name": "stdout",
     "output_type": "stream",
     "text": [
      "BA: 669\n",
      "LMT: 669\n"
     ]
    },
    {
     "name": "stderr",
     "output_type": "stream",
     "text": [
      " 94%|█████████▍| 30/32 [00:03<00:00,  8.62it/s]"
     ]
    },
    {
     "name": "stdout",
     "output_type": "stream",
     "text": [
      "RTX: 669\n",
      "^IXIC: 669\n"
     ]
    },
    {
     "name": "stderr",
     "output_type": "stream",
     "text": [
      "100%|██████████| 32/32 [00:03<00:00,  8.52it/s]"
     ]
    },
    {
     "name": "stdout",
     "output_type": "stream",
     "text": [
      "^GSPC: 669\n",
      "^DJI: 669\n"
     ]
    },
    {
     "name": "stderr",
     "output_type": "stream",
     "text": [
      "\n"
     ]
    }
   ],
   "source": [
    "for ticker in tqdm.tqdm(stock_list['Ticker'].to_list()):\n",
    "    p = basepath /  (ticker+'.csv')\n",
    "    \n",
    "    df = P.read_csv(p)\n",
    "    df = process_one(df)\n",
    "    df.to_csv(p, index=False)\n",
    "    print(f\"{ticker}: {len(df)}\")"
   ]
  },
  {
   "cell_type": "code",
   "execution_count": 8,
   "metadata": {},
   "outputs": [
    {
     "name": "stderr",
     "output_type": "stream",
     "text": [
      " 59%|█████▉    | 19/32 [00:00<00:00, 218.08it/s]"
     ]
    },
    {
     "name": "stdout",
     "output_type": "stream",
     "text": [
      "BAC\n"
     ]
    },
    {
     "name": "stderr",
     "output_type": "stream",
     "text": [
      "\n"
     ]
    }
   ],
   "source": [
    "for ticker in tqdm.tqdm(stock_list['Ticker'].to_list()):\n",
    "    p = basepath /  (ticker+'.csv')\n",
    "    df = P.read_csv(p)\n",
    "    if len(df) == 670:\n",
    "        print(ticker)\n",
    "        break"
   ]
  },
  {
   "cell_type": "markdown",
   "metadata": {},
   "source": [
    "# Example MSFT Ticker"
   ]
  },
  {
   "cell_type": "code",
   "execution_count": 6,
   "metadata": {},
   "outputs": [
    {
     "data": {
      "text/html": [
       "<div>\n",
       "<style scoped>\n",
       "    .dataframe tbody tr th:only-of-type {\n",
       "        vertical-align: middle;\n",
       "    }\n",
       "\n",
       "    .dataframe tbody tr th {\n",
       "        vertical-align: top;\n",
       "    }\n",
       "\n",
       "    .dataframe thead th {\n",
       "        text-align: right;\n",
       "    }\n",
       "</style>\n",
       "<table border=\"1\" class=\"dataframe\">\n",
       "  <thead>\n",
       "    <tr style=\"text-align: right;\">\n",
       "      <th></th>\n",
       "      <th>Open</th>\n",
       "      <th>High</th>\n",
       "      <th>Low</th>\n",
       "      <th>Close</th>\n",
       "      <th>Volume</th>\n",
       "      <th>Dividends</th>\n",
       "      <th>Stock Splits</th>\n",
       "    </tr>\n",
       "    <tr>\n",
       "      <th>Date</th>\n",
       "      <th></th>\n",
       "      <th></th>\n",
       "      <th></th>\n",
       "      <th></th>\n",
       "      <th></th>\n",
       "      <th></th>\n",
       "      <th></th>\n",
       "    </tr>\n",
       "  </thead>\n",
       "  <tbody>\n",
       "    <tr>\n",
       "      <th>2017-01-03</th>\n",
       "      <td>58.870134</td>\n",
       "      <td>58.917012</td>\n",
       "      <td>58.251336</td>\n",
       "      <td>58.673244</td>\n",
       "      <td>20694100</td>\n",
       "      <td>0.0</td>\n",
       "      <td>0</td>\n",
       "    </tr>\n",
       "    <tr>\n",
       "      <th>2017-01-04</th>\n",
       "      <td>58.579488</td>\n",
       "      <td>58.832633</td>\n",
       "      <td>58.241961</td>\n",
       "      <td>58.410725</td>\n",
       "      <td>21340000</td>\n",
       "      <td>0.0</td>\n",
       "      <td>0</td>\n",
       "    </tr>\n",
       "    <tr>\n",
       "      <th>2017-01-05</th>\n",
       "      <td>58.307591</td>\n",
       "      <td>58.748251</td>\n",
       "      <td>58.157580</td>\n",
       "      <td>58.410725</td>\n",
       "      <td>24876000</td>\n",
       "      <td>0.0</td>\n",
       "      <td>0</td>\n",
       "    </tr>\n",
       "    <tr>\n",
       "      <th>2017-01-06</th>\n",
       "      <td>58.410725</td>\n",
       "      <td>59.207664</td>\n",
       "      <td>58.166958</td>\n",
       "      <td>58.917015</td>\n",
       "      <td>19922900</td>\n",
       "      <td>0.0</td>\n",
       "      <td>0</td>\n",
       "    </tr>\n",
       "    <tr>\n",
       "      <th>2017-01-09</th>\n",
       "      <td>58.842004</td>\n",
       "      <td>59.142030</td>\n",
       "      <td>58.635740</td>\n",
       "      <td>58.729496</td>\n",
       "      <td>20382700</td>\n",
       "      <td>0.0</td>\n",
       "      <td>0</td>\n",
       "    </tr>\n",
       "    <tr>\n",
       "      <th>...</th>\n",
       "      <td>...</td>\n",
       "      <td>...</td>\n",
       "      <td>...</td>\n",
       "      <td>...</td>\n",
       "      <td>...</td>\n",
       "      <td>...</td>\n",
       "      <td>...</td>\n",
       "    </tr>\n",
       "    <tr>\n",
       "      <th>2018-12-24</th>\n",
       "      <td>95.247732</td>\n",
       "      <td>95.530512</td>\n",
       "      <td>91.639866</td>\n",
       "      <td>91.786125</td>\n",
       "      <td>43935200</td>\n",
       "      <td>0.0</td>\n",
       "      <td>0</td>\n",
       "    </tr>\n",
       "    <tr>\n",
       "      <th>2018-12-26</th>\n",
       "      <td>92.770977</td>\n",
       "      <td>98.182783</td>\n",
       "      <td>91.620359</td>\n",
       "      <td>98.056015</td>\n",
       "      <td>51634800</td>\n",
       "      <td>0.0</td>\n",
       "      <td>0</td>\n",
       "    </tr>\n",
       "    <tr>\n",
       "      <th>2018-12-27</th>\n",
       "      <td>96.827391</td>\n",
       "      <td>98.670329</td>\n",
       "      <td>93.999601</td>\n",
       "      <td>98.660576</td>\n",
       "      <td>49498500</td>\n",
       "      <td>0.0</td>\n",
       "      <td>0</td>\n",
       "    </tr>\n",
       "    <tr>\n",
       "      <th>2018-12-28</th>\n",
       "      <td>99.547918</td>\n",
       "      <td>99.859957</td>\n",
       "      <td>97.041912</td>\n",
       "      <td>97.890251</td>\n",
       "      <td>38196300</td>\n",
       "      <td>0.0</td>\n",
       "      <td>0</td>\n",
       "    </tr>\n",
       "    <tr>\n",
       "      <th>2018-12-31</th>\n",
       "      <td>98.767836</td>\n",
       "      <td>99.850197</td>\n",
       "      <td>97.939003</td>\n",
       "      <td>99.040863</td>\n",
       "      <td>33173800</td>\n",
       "      <td>0.0</td>\n",
       "      <td>0</td>\n",
       "    </tr>\n",
       "  </tbody>\n",
       "</table>\n",
       "<p>502 rows × 7 columns</p>\n",
       "</div>"
      ],
      "text/plain": [
       "                 Open       High        Low      Close    Volume  Dividends  \\\n",
       "Date                                                                          \n",
       "2017-01-03  58.870134  58.917012  58.251336  58.673244  20694100        0.0   \n",
       "2017-01-04  58.579488  58.832633  58.241961  58.410725  21340000        0.0   \n",
       "2017-01-05  58.307591  58.748251  58.157580  58.410725  24876000        0.0   \n",
       "2017-01-06  58.410725  59.207664  58.166958  58.917015  19922900        0.0   \n",
       "2017-01-09  58.842004  59.142030  58.635740  58.729496  20382700        0.0   \n",
       "...               ...        ...        ...        ...       ...        ...   \n",
       "2018-12-24  95.247732  95.530512  91.639866  91.786125  43935200        0.0   \n",
       "2018-12-26  92.770977  98.182783  91.620359  98.056015  51634800        0.0   \n",
       "2018-12-27  96.827391  98.670329  93.999601  98.660576  49498500        0.0   \n",
       "2018-12-28  99.547918  99.859957  97.041912  97.890251  38196300        0.0   \n",
       "2018-12-31  98.767836  99.850197  97.939003  99.040863  33173800        0.0   \n",
       "\n",
       "            Stock Splits  \n",
       "Date                      \n",
       "2017-01-03             0  \n",
       "2017-01-04             0  \n",
       "2017-01-05             0  \n",
       "2017-01-06             0  \n",
       "2017-01-09             0  \n",
       "...                  ...  \n",
       "2018-12-24             0  \n",
       "2018-12-26             0  \n",
       "2018-12-27             0  \n",
       "2018-12-28             0  \n",
       "2018-12-31             0  \n",
       "\n",
       "[502 rows x 7 columns]"
      ]
     },
     "execution_count": 6,
     "metadata": {},
     "output_type": "execute_result"
    }
   ],
   "source": [
    "msft = yf.Ticker(\"MSFT\")\n",
    "hist = msft.history(period=\"max\", start='2017-01-01', end='2019-01-01', interval='1d')\n",
    "hist"
   ]
  },
  {
   "cell_type": "code",
   "execution_count": 7,
   "metadata": {},
   "outputs": [
    {
     "data": {
      "text/plain": [
       "Timestamp('2017-01-04 00:00:00')"
      ]
     },
     "execution_count": 7,
     "metadata": {},
     "output_type": "execute_result"
    }
   ],
   "source": [
    "hist.index[1]"
   ]
  },
  {
   "cell_type": "code",
   "execution_count": 8,
   "metadata": {},
   "outputs": [],
   "source": [
    "w = 12*60*60*1000\n",
    "TOOLS = \"pan,wheel_zoom,box_zoom,reset,save\"\n",
    "plot = bokeh.plotting.figure(x_axis_type='datetime', tools=TOOLS, plot_width=1000, title=\"MSFT Candlestick\")\n",
    "plot.xaxis.major_label_orientation = N.pi / 4\n",
    "plot.segment(hist.index, hist['High'], hist.index, hist['Low'], color='black')\n",
    "\n",
    "idx = hist['Close'] > hist['Open']\n",
    "plot.vbar(hist.index[idx], w, hist['Open'][idx], hist['Close'][idx], fill_color=\"#D5E1DD\", line_alpha=0)\n",
    "plot.vbar(hist.index[~idx], w, hist['Open'][~idx], hist['Close'][~idx], fill_color=\"#F2583E\", line_alpha=0)\n",
    "\n",
    "bokeh.plotting.output_file(\"analytics/stocks_msft_example.html\", title=\"MSFT Candlestick\")\n",
    "bokeh.plotting.show(plot)"
   ]
  },
  {
   "cell_type": "code",
   "execution_count": null,
   "metadata": {},
   "outputs": [],
   "source": []
  }
 ],
 "metadata": {
  "kernelspec": {
   "display_name": "Python 3",
   "language": "python",
   "name": "python3"
  },
  "language_info": {
   "codemirror_mode": {
    "name": "ipython",
    "version": 3
   },
   "file_extension": ".py",
   "mimetype": "text/x-python",
   "name": "python",
   "nbconvert_exporter": "python",
   "pygments_lexer": "ipython3",
   "version": "3.8.0"
  }
 },
 "nbformat": 4,
 "nbformat_minor": 4
}
