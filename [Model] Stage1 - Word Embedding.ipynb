{
 "cells": [
  {
   "cell_type": "markdown",
   "metadata": {},
   "source": [
    "# Model - Word Embedding"
   ]
  },
  {
   "cell_type": "code",
   "execution_count": 1,
   "metadata": {},
   "outputs": [],
   "source": [
    "import pyspark\n",
    "\n",
    "sparkConfig = {\n",
    "    'spark.executor.memory': '30g',\n",
    "    'spark.driver.memory': '60g',\n",
    "    'spark.master': 'local[*]',\n",
    "    'spark.default.parallelism': '30',\n",
    "}\n",
    "sc = pyspark.SparkContext('local[*]', 'Model - Word Embedding')"
   ]
  },
  {
   "cell_type": "code",
   "execution_count": 2,
   "metadata": {},
   "outputs": [],
   "source": [
    "import datetime\n",
    "import importlib\n",
    "import json\n",
    "import numpy as N\n",
    "import numpy.random as NR\n",
    "import matplotlib.pyplot as pyplot\n",
    "import seaborn\n",
    "import pandas as P\n",
    "from pathlib import Path\n",
    "import shutil\n",
    "import pyspark.mllib as SM\n",
    "import pyspark.mllib.feature as SMF\n",
    "import tqdm\n",
    "import pickle\n",
    "\n",
    "seaborn.set_style('whitegrid')"
   ]
  },
  {
   "cell_type": "code",
   "execution_count": 3,
   "metadata": {},
   "outputs": [],
   "source": [
    "import common.twitter\n",
    "pathChirps = Path('datasets/Chirps')\n",
    "pathAnalyticsChirp = Path('analytics/Chirps')\n",
    "substituteFlag = True # If true, substitute before split(' ')\n",
    "pathOccTrain = pathAnalyticsChirp / 'token_occurrence_train.csv'\n",
    "pathOccTest = pathAnalyticsChirp / 'token_occurrence_test.csv'"
   ]
  },
  {
   "cell_type": "markdown",
   "metadata": {},
   "source": [
    "## Generate histogram"
   ]
  },
  {
   "cell_type": "code",
   "execution_count": 4,
   "metadata": {},
   "outputs": [
    {
     "name": "stdout",
     "output_type": "stream",
     "text": [
      "Train: 281368 distinct tokens collected\n",
      "Test: 120542 distinct tokens collected\n"
     ]
    }
   ],
   "source": [
    "\n",
    "def count_tokens(instances):\n",
    "    def extract_tokens(l):\n",
    "        x = common.twitter.chirps_instance_readhalfline(l)\n",
    "        if substituteFlag:\n",
    "            x = x.tokenised_substitute_string\n",
    "        else:\n",
    "            x = x.tokenised_string\n",
    "        return [(y,1) for y in x]\n",
    "\n",
    "    occ = sc.textFile(str(instances)) \\\n",
    "        .flatMap(extract_tokens) \\\n",
    "        .reduceByKey(lambda a,b: a+b, numPartitions=90) \\\n",
    "        .sortBy(lambda x:-x[1]) \\\n",
    "        .collect()\n",
    "    print(f\"{len(occ)} distinct tokens collected\")\n",
    "\n",
    "    occ = P.DataFrame(occ, columns=['token', 'frequency'])\n",
    "    return occ\n",
    "\n",
    "if pathOccTrain.exists():\n",
    "    occTrain = P.read_csv(pathOccTrain)\n",
    "else:\n",
    "    occTrain = count_tokens(pathChirps / 'instances_train.tsv')\n",
    "    occTrain.to_csv(pathOccTrain, index=False)\n",
    "    \n",
    "    \n",
    "if pathOccTest.exists():\n",
    "    occTest = P.read_csv(pathOccTest)\n",
    "else:\n",
    "    occTest = count_tokens(pathChirps / 'instances_test.tsv')\n",
    "    occTest.to_csv(pathOccTest, index=False)\n",
    "\n",
    "print(f\"Train: {len(occTrain)} distinct tokens collected\")\n",
    "print(f\"Test: {len(occTest)} distinct tokens collected\")"
   ]
  },
  {
   "cell_type": "code",
   "execution_count": 5,
   "metadata": {},
   "outputs": [
    {
     "data": {
      "image/png": "[encoded data removed]",
      "text/plain": [
       "<Figure size 576x432 with 1 Axes>"
      ]
     },
     "metadata": {},
     "output_type": "display_data"
    }
   ],
   "source": [
    "    \n",
    "fig, ax = pyplot.subplots(figsize=(8,6))\n",
    "ax.plot(occTrain['frequency'], alpha=0.5, color='tab:blue')\n",
    "ax.plot(occTest['frequency'], alpha=0.5, color='tab:orange')\n",
    "ax.fill_between(range(len(occTrain)), occTrain['frequency'], alpha=0.5, color='tab:blue', label='train')\n",
    "ax.fill_between(range(len(occTest)), occTest['frequency'], alpha=0.5, color='tab:orange', label='test')\n",
    "ax.set_yscale('log')\n",
    "ax.legend(loc='upper right')\n",
    "ax.set_xlabel('Tokens')\n",
    "ax.set_ylabel('Frequency')\n",
    "fig.savefig(pathAnalyticsChirp / 'occ.png', dpi=300)"
   ]
  },
  {
   "cell_type": "markdown",
   "metadata": {},
   "source": [
    "## Train Word2Vec embedding model"
   ]
  },
  {
   "cell_type": "code",
   "execution_count": 6,
   "metadata": {},
   "outputs": [],
   "source": [
    "pathModelEmbedding = Path(\"models/embedding/word2vec\")\n",
    "properties = {\n",
    "    'embedding_size': 128,\n",
    "    'tweet_len': 26, # Determined from data exploration\n",
    "}\n",
    "with open(pathModelEmbedding / 'properties.json', 'w') as f:\n",
    "    json.dump(properties, f)"
   ]
  },
  {
   "cell_type": "code",
   "execution_count": 7,
   "metadata": {},
   "outputs": [],
   "source": [
    "if not pathModelEmbedding.exists():\n",
    "    w2v = SMF.Word2Vec()\\\n",
    "        .setVectorSize(properties['embedding_size'])\\\n",
    "        .setSeed(0) \\\n",
    "        .setNumPartitions(8) \\\n",
    "        .setNumIterations(2)\n",
    "\n",
    "    rdd = sc.textFile(str(pathChirps / 'instances_train.tsv')) \\\n",
    "        .map(common.twitter.chirps_instance_readhalfline) \\\n",
    "        .map(lambda x:x.tokenised_substitute_string if substituteFlag else x.tokenised_string)\n",
    "\n",
    "    model = w2v.fit(rdd)\n",
    "    model.save(sc, str(pathModelEmbedding))\n",
    "    \n",
    "    with open(pathModelEmbedding / 'properties.json', 'w') as f:\n",
    "        json.dump(properties, f)\n",
    "else:\n",
    "    model = SMF.Word2VecModel.load(sc, str(pathModelEmbedding))\n",
    "    \n",
    "if (pathModelEmbedding / 'dict.pickle').exists():\n",
    "    with open(pathModelEmbedding / 'dict.pickle', 'rb') as f:\n",
    "        m = pickle.load(f)\n",
    "else:\n",
    "    m = dict(model.getVectors())\n",
    "    m = {k:N.array(v) for k,v in tqdm.tqdm(m.items())}\n",
    "    with open(pathModelEmbedding / 'dict.pickle', 'wb') as f:\n",
    "        pickle.dump(m, f)"
   ]
  },
  {
   "cell_type": "code",
   "execution_count": 8,
   "metadata": {},
   "outputs": [],
   "source": [
    "broadcastedM = sc.broadcast(m)"
   ]
  },
  {
   "cell_type": "code",
   "execution_count": 9,
   "metadata": {},
   "outputs": [
    {
     "data": {
      "text/plain": [
       "array([[ 0.43980223, -0.09601658, -0.05356978, ..., -0.04555546,\n",
       "         0.4592869 ,  0.05844319],\n",
       "       [-0.12356465, -0.1183284 , -0.24127899, ..., -0.25358212,\n",
       "         0.18620174, -0.1305861 ],\n",
       "       [ 0.08329236, -0.07850468, -0.0141851 , ..., -0.10134368,\n",
       "         0.15035576, -0.04029754],\n",
       "       ...,\n",
       "       [ 0.        ,  0.        ,  0.        , ...,  0.        ,\n",
       "         0.        ,  0.        ],\n",
       "       [ 0.        ,  0.        ,  0.        , ...,  0.        ,\n",
       "         0.        ,  0.        ],\n",
       "       [ 0.        ,  0.        ,  0.        , ...,  0.        ,\n",
       "         0.        ,  0.        ]])"
      ]
     },
     "execution_count": 9,
     "metadata": {},
     "output_type": "execute_result"
    }
   ],
   "source": [
    "def embed_tweet(li):\n",
    "    zero = N.zeros(properties['embedding_size'])\n",
    "    li = [broadcastedM.value.get(x, zero) for x in li]\n",
    "    dl = properties['tweet_len'] - len(li)\n",
    "    assert dl >= 0\n",
    "    li = N.stack(li)\n",
    "    # Pad result so they all have 26 words.\n",
    "    return N.pad(li, ((0, dl), (0,0)))\n",
    "embed_tweet([\"donald\", \"trump\", \"becomes\", \"president\"])"
   ]
  },
  {
   "cell_type": "markdown",
   "metadata": {},
   "source": [
    "## Cache intermediate outputs from word embedding.\n",
    "\n",
    "**Warning**: Disabled routine. This proves to be too memory inefficient. A better solution is to use word embedding in-place."
   ]
  },
  {
   "cell_type": "code",
   "execution_count": 12,
   "metadata": {},
   "outputs": [],
   "source": [
    "def read_tweet(x):\n",
    "    x = common.twitter.chirps_instance_readhalfline(x)\n",
    "    return x.tweetId, embed_tweet(x.tokenised_substitute_string)\n",
    "def map_instances(name):\n",
    "    \"\"\"\n",
    "    The purpose of this function is to prevent spark from pickling everything in the current scope.\n",
    "    \"\"\"\n",
    "    rdd = sc.textFile(str(pathChirps / f'{name}.tsv'), 30) \\\n",
    "        .map(read_tweet)\n",
    "    pOut = pathModelEmbedding / name\n",
    "    if pOut.exists():\n",
    "        shutil.rmtree(pathModelEmbedding / name)\n",
    "    rdd.saveAsPickleFile(str(pOut))\n",
    "#map_instances('instances_train')"
   ]
  }
 ],
 "metadata": {
  "kernelspec": {
   "display_name": "Python 3",
   "language": "python",
   "name": "python3"
  },
  "language_info": {
   "codemirror_mode": {
    "name": "ipython",
    "version": 3
   },
   "file_extension": ".py",
   "mimetype": "text/x-python",
   "name": "python",
   "nbconvert_exporter": "python",
   "pygments_lexer": "ipython3",
   "version": "3.8.0"
  }
 },
 "nbformat": 4,
 "nbformat_minor": 4
}
