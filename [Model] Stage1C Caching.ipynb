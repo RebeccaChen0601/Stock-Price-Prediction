{
 "cells": [
  {
   "cell_type": "markdown",
   "metadata": {},
   "source": [
    "# Model - Stage1C - Cache\n",
    "\n",
    "Cache the outputs from stage 1 for better performance."
   ]
  },
  {
   "cell_type": "code",
   "execution_count": 1,
   "metadata": {},
   "outputs": [],
   "source": [
    "import pyspark\n",
    "\n",
    "sparkConfig = {\n",
    "    'spark.executor.memory': '30g',\n",
    "    'spark.driver.memory': '60g',\n",
    "    'spark.master': 'local[*]',\n",
    "    'spark.default.parallelism': '30',\n",
    "}\n",
    "conf = pyspark.SparkConf() \\\n",
    "    .setMaster('local[*]') \\\n",
    "    .setAppName('Model - Stage1C - Cache')\n",
    "for k,v in sparkConfig.items():\n",
    "    conf = conf.set(k, v)\n",
    "sc = pyspark.SparkContext(conf=conf)"
   ]
  },
  {
   "cell_type": "code",
   "execution_count": 2,
   "metadata": {},
   "outputs": [],
   "source": [
    "import datetime\n",
    "import importlib\n",
    "import json, pickle\n",
    "import numpy as N\n",
    "import numpy.random as NR\n",
    "import matplotlib.pyplot as pyplot\n",
    "import seaborn\n",
    "import pandas as P\n",
    "from pathlib import Path\n",
    "import shutil\n",
    "import pyspark.mllib as SM\n",
    "import pyspark.mllib.feature as SMF\n",
    "\n",
    "seaborn.set_style('whitegrid')"
   ]
  },
  {
   "cell_type": "code",
   "execution_count": 3,
   "metadata": {},
   "outputs": [
    {
     "data": {
      "text/plain": [
       "<module 'common.data' from '/data/common/data.py'>"
      ]
     },
     "execution_count": 3,
     "metadata": {},
     "output_type": "execute_result"
    }
   ],
   "source": [
    "import common.data\n",
    "importlib.reload(common.data)"
   ]
  },
  {
   "cell_type": "code",
   "execution_count": 4,
   "metadata": {},
   "outputs": [],
   "source": [
    "pathChirps = Path('datasets/Chirps')\n",
    "pathStocks = Path('datasets/Stocks')\n",
    "pathAnalyticsChirp = Path('analytics/Chirps')\n",
    "pathModelEmbedding = Path(\"models/embedding/word2vec\")\n",
    "\n",
    "startTrain = datetime.date(2017, 1, 1)\n",
    "endTrain = datetime.date(2019, 1, 1)\n",
    "startTest = endTrain\n",
    "endTest = datetime.date(2019, 7, 1)\n",
    "\n",
    "pathTrainInstances = pathChirps / 'instances_train.tsv'\n",
    "pathTestInstances = pathChirps / 'instances_test.tsv'\n",
    "\n",
    "pathStage1 = Path('models/stage1')\n",
    "\n",
    "conf = {\n",
    "    'sampleSize': 2048,\n",
    "    'nSamplesPerDay': 32,\n",
    "    'partitions': 32,\n",
    "}"
   ]
  },
  {
   "cell_type": "code",
   "execution_count": 5,
   "metadata": {},
   "outputs": [
    {
     "data": {
      "text/plain": [
       "[(datetime.date(2017, 12, 5), 'to recognize jerusalem as the capital'),\n",
       " (datetime.date(2017, 12, 5), 'trump tell abbas'),\n",
       " (datetime.date(2017, 12, 5),\n",
       "  'hdtalk wisconsin to drug test food stamp users'),\n",
       " (datetime.date(2017, 12, 5), 'trump shrink the size')]"
      ]
     },
     "execution_count": 5,
     "metadata": {},
     "output_type": "execute_result"
    }
   ],
   "source": [
    "# Read tweets data\n",
    "tweets_train = common.data.create_tweets_rdd(pathTrainInstances, sc=sc, partitions=conf['partitions']) #.sample(False, 0.001)\n",
    "tweets_train.take(4)"
   ]
  },
  {
   "cell_type": "code",
   "execution_count": 6,
   "metadata": {},
   "outputs": [],
   "source": [
    "# Read an example ticker. We only need the time idx.\n",
    "\n",
    "ticker = \"AAPL\"\n",
    "stockDf = P.read_csv(pathStocks / f'{ticker}.csv').set_index('Date')\n",
    "stockDf.index = stockDf.index.map(datetime.datetime.fromisoformat).map(lambda x:x.date())\n",
    "idx_train = stockDf.index[stockDf.index.map(lambda x:startTrain <= x and x < endTrain)]\n",
    "idx_test = stockDf.index[stockDf.index.map(lambda x:startTest <= x and x < endTest)]"
   ]
  },
  {
   "cell_type": "code",
   "execution_count": 14,
   "metadata": {},
   "outputs": [],
   "source": [
    "with open(pathStage1 / 'properties.json', 'w') as f:\n",
    "    json.dump(conf, f)"
   ]
  },
  {
   "cell_type": "markdown",
   "metadata": {},
   "source": [
    "### Train set"
   ]
  },
  {
   "cell_type": "code",
   "execution_count": 7,
   "metadata": {},
   "outputs": [],
   "source": [
    "pOut = pathStage1 / 'instances_train'\n",
    "if pOut.exists():\n",
    "    shutil.rmtree(pOut)\n",
    "rdd_train = common.data.create_data_rdd(tweets_train, idx_train, sc=sc, **conf)\n",
    "rdd_train.saveAsPickleFile(str(pOut))"
   ]
  },
  {
   "cell_type": "code",
   "execution_count": 8,
   "metadata": {},
   "outputs": [
    {
     "data": {
      "text/plain": [
       "[(datetime.date(2017, 12, 15),\n",
       "  array(['harvey weinstein have issue a statement',\n",
       "         'beijing be build the infrastructure', 'israel hit gaza', ...,\n",
       "         'be in top for 2017', 'to sell off units for billion',\n",
       "         'beijing be build the infrastructure'], dtype='<U79')),\n",
       " (datetime.date(2017, 12, 15),\n",
       "  array(['news woman use bitcoin', 'donald trump spend christmas',\n",
       "         'bout ukad this whole thing be a mess', ...,\n",
       "         'blake farenthold wo not seek re-election',\n",
       "         'house ethics committee revive sexual harassment investigation',\n",
       "         'donald trump spend christmas'], dtype='<U79')),\n",
       " (datetime.date(2017, 12, 15),\n",
       "  array(['brexit deal will tie uk', 'news woman use bitcoin',\n",
       "         'bitcoin craze propel coinbase app', ...,\n",
       "         'sarah sanders shut down acosta',\n",
       "         'to recognize jerusalem as israeli capital - statement',\n",
       "         'the final season wo not return until 2019'], dtype='<U79')),\n",
       " (datetime.date(2017, 12, 15),\n",
       "  array(['australia legalize same-sex marriage',\n",
       "         \"after bitcoin's wild week traders brace for futures launch - reuters\",\n",
       "         'to save wild animals during wildfires even cute bunnies', ...,\n",
       "         'sarah sanders shut down acosta',\n",
       "         'liberal party-aligned fundraising machine will host a private business briefing',\n",
       "         'power be about business'], dtype='<U79')),\n",
       " (datetime.date(2017, 12, 15),\n",
       "  array(['liberal party-aligned fundraising machine will host a private business briefing',\n",
       "         \"mama june's 17-year-old daughter give birth\",\n",
       "         'fridayfeeling yesterday nikkihaley be talk about irans', ...,\n",
       "         'exit polls jones pull off his stunning win',\n",
       "         'hit the earth via qz', 'make money in trading'], dtype='<U79')),\n",
       " (datetime.date(2017, 12, 15),\n",
       "  array(['patients would go to unlicensed providers',\n",
       "         'send giancarlo stanton to yankees',\n",
       "         'realdonaldtrump government lose key brexit bill', ...,\n",
       "         'israel hit gaza',\n",
       "         'realdonaldtrump government lose key brexit bill',\n",
       "         'trump spend his time'], dtype='<U79')),\n",
       " (datetime.date(2017, 12, 15),\n",
       "  array(['republicans by contrast', 'to pay attention to in 2018',\n",
       "         'richest 0.1% increase wealth', ...,\n",
       "         'fbi doj conflicts require second special counsel',\n",
       "         'alexandra burke wo not win show',\n",
       "         \"after bitcoin's wild week traders brace for futures launch - reuters\"],\n",
       "        dtype='<U79')),\n",
       " (datetime.date(2017, 12, 15),\n",
       "  array(['the officer be strike in the leg',\n",
       "         'discuss surrogacy with staffers', 'charlie sheen be sue the', ...,\n",
       "         'australia legalize same-sex marriage',\n",
       "         'news anchor expose viewer', 'trump attend opening'], dtype='<U79')),\n",
       " (datetime.date(2017, 12, 15),\n",
       "  array(['gop tax plan will help corporations',\n",
       "         'australia legalize same-sex marriage', 'trump have accept assad',\n",
       "         ..., 'yankees have not rule out deal',\n",
       "         'fbi doj conflicts require second special counsel',\n",
       "         'sarah sanders shut down acosta'], dtype='<U79')),\n",
       " (datetime.date(2017, 12, 15),\n",
       "  array(['beijing be build the infrastructure',\n",
       "         'to spot the qualities via forbes',\n",
       "         'exit polls jones pull off his stunning win', ...,\n",
       "         'bitcoin craze propel coinbase app', 'charlie sheen be sue the',\n",
       "         'luke come to yoda'], dtype='<U79'))]"
      ]
     },
     "execution_count": 8,
     "metadata": {},
     "output_type": "execute_result"
    }
   ],
   "source": [
    "rdd_train.take(10)"
   ]
  },
  {
   "cell_type": "markdown",
   "metadata": {},
   "source": [
    "### Test set"
   ]
  },
  {
   "cell_type": "code",
   "execution_count": 8,
   "metadata": {},
   "outputs": [],
   "source": [
    "tweets_test = common.data.create_tweets_rdd(pathTestInstances, sc=sc)"
   ]
  },
  {
   "cell_type": "code",
   "execution_count": 10,
   "metadata": {},
   "outputs": [],
   "source": [
    "pOut = pathStage1 / 'instances_test'\n",
    "if pOut.exists():\n",
    "    shutil.rmtree(pOut)\n",
    "rdd_test = common.data.create_data_rdd(tweets_test, idx_test, sc=sc, leadTime=0, **conf)\n",
    "rdd_test.saveAsPickleFile(str(pOut))"
   ]
  },
  {
   "cell_type": "code",
   "execution_count": 11,
   "metadata": {},
   "outputs": [
    {
     "data": {
      "text/plain": [
       "14688"
      ]
     },
     "execution_count": 11,
     "metadata": {},
     "output_type": "execute_result"
    }
   ],
   "source": [
    "rdd_train.count()"
   ]
  },
  {
   "cell_type": "code",
   "execution_count": 12,
   "metadata": {},
   "outputs": [
    {
     "data": {
      "text/plain": [
       "3968"
      ]
     },
     "execution_count": 12,
     "metadata": {},
     "output_type": "execute_result"
    }
   ],
   "source": [
    "rdd_test.count()"
   ]
  },
  {
   "cell_type": "code",
   "execution_count": null,
   "metadata": {},
   "outputs": [],
   "source": []
  }
 ],
 "metadata": {
  "kernelspec": {
   "display_name": "Python 3",
   "language": "python",
   "name": "python3"
  },
  "language_info": {
   "codemirror_mode": {
    "name": "ipython",
    "version": 3
   },
   "file_extension": ".py",
   "mimetype": "text/x-python",
   "name": "python",
   "nbconvert_exporter": "python",
   "pygments_lexer": "ipython3",
   "version": "3.8.0"
  }
 },
 "nbformat": 4,
 "nbformat_minor": 4
}
